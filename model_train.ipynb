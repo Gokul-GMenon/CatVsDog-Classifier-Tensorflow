{
  "nbformat": 4,
  "nbformat_minor": 0,
  "metadata": {
    "colab": {
      "provenance": []
    },
    "kernelspec": {
      "name": "python3",
      "display_name": "Python 3"
    },
    "language_info": {
      "name": "python"
    },
    "accelerator": "GPU",
    "gpuClass": "standard"
  },
  "cells": [
    {
      "cell_type": "code",
      "source": [
        "from google.colab import drive\n",
        "drive.mount('/content/drive')"
      ],
      "metadata": {
        "colab": {
          "base_uri": "https://localhost:8080/"
        },
        "id": "_8OY8X_hkGCD",
        "outputId": "2af3a510-e255-4d3b-fd35-a9ebe674ca70"
      },
      "execution_count": null,
      "outputs": [
        {
          "output_type": "stream",
          "name": "stdout",
          "text": [
            "Mounted at /content/drive\n"
          ]
        }
      ]
    },
    {
      "cell_type": "code",
      "execution_count": null,
      "metadata": {
        "id": "mQBPdiYwenXt"
      },
      "outputs": [],
      "source": [
        "from tensorflow.keras.models import Sequential\n",
        "from tensorflow.keras.layers import Flatten\n",
        "from tensorflow.keras.layers import Dense\n",
        "from tensorflow.keras.layers import Conv2D\n",
        "from tensorflow.keras.layers import MaxPooling2D\n",
        "from tensorflow.keras.callbacks import TensorBoard\n",
        "from tensorflow.keras.optimizers import Adam"
      ]
    },
    {
      "cell_type": "code",
      "source": [
        "classifier = Sequential()\n",
        "classifier.add(Conv2D(32,(3,3),input_shape=(64,64,3),activation = 'relu'))\n",
        "classifier.add(MaxPooling2D(pool_size=(2,2),strides=2)) #if stride not given it equal to pool filter size\n",
        "classifier.add(Conv2D(32,(3,3),activation = 'relu'))\n",
        "classifier.add(MaxPooling2D(pool_size=(2,2),strides=2))\n",
        "classifier.add(Flatten())\n",
        "classifier.add(Dense(units=128,activation='relu'))\n",
        "classifier.add(Dense(units=1,activation='sigmoid'))\n",
        "adam = Adam(lr=0.001, beta_1=0.9, beta_2=0.999, epsilon=None, decay=0.0, amsgrad=False)\n",
        "classifier.compile(optimizer=adam,loss='binary_crossentropy',metrics=['accuracy'])"
      ],
      "metadata": {
        "colab": {
          "base_uri": "https://localhost:8080/"
        },
        "id": "Lx-DcushjdUC",
        "outputId": "efb33229-1978-40f9-f6e7-0391a65b08c7"
      },
      "execution_count": null,
      "outputs": [
        {
          "output_type": "stream",
          "name": "stderr",
          "text": [
            "/usr/local/lib/python3.8/dist-packages/keras/optimizers/optimizer_v2/adam.py:110: UserWarning: The `lr` argument is deprecated, use `learning_rate` instead.\n",
            "  super(Adam, self).__init__(name, **kwargs)\n"
          ]
        }
      ]
    },
    {
      "cell_type": "code",
      "source": [
        "from tensorflow.keras.preprocessing.image import ImageDataGenerator\n",
        "\n",
        "train_datagen = ImageDataGenerator(rescale=1./255,\n",
        "                                   shear_range=0.1,\n",
        "                                   zoom_range=0.1,\n",
        "                                   horizontal_flip=True)\n",
        "test_datagen = ImageDataGenerator(rescale=1./255)\n",
        "\n",
        "#Training Set\n",
        "train_set = train_datagen.flow_from_directory('/content/drive/MyDrive/Internships/Cortex N Grey/Cat&Dog/train',\n",
        "                                             target_size=(64,64),\n",
        "                                             batch_size=32,\n",
        "                                             class_mode='binary')\n",
        "# #Validation Set\n",
        "# test_set = test_datagen.flow_from_directory('/content/drive/MyDrive/Internships/Cortex N Grey/Cat&Dog/test1',\n",
        "#                                            target_size=(64,64),\n",
        "#                                            batch_size = 32,\n",
        "#                                            class_mode='binary',\n",
        "#                                            shuffle=False)\n",
        "#Test Set /no output available\n",
        "test_set1 = test_datagen.flow_from_directory('/content/drive/MyDrive/Internships/Cortex N Grey/Cat&Dog/test1',\n",
        "                                            target_size=(64,64),\n",
        "                                            batch_size=32,\n",
        "                                            shuffle=False)\n"
      ],
      "metadata": {
        "id": "2HvHaDh0jjEM",
        "colab": {
          "base_uri": "https://localhost:8080/"
        },
        "outputId": "1717f066-6ec0-426e-bd0a-b8dd7cea02b5"
      },
      "execution_count": null,
      "outputs": [
        {
          "output_type": "stream",
          "name": "stdout",
          "text": [
            "Found 25000 images belonging to 2 classes.\n",
            "Found 0 images belonging to 0 classes.\n"
          ]
        }
      ]
    },
    {
      "cell_type": "code",
      "source": [
        "    # %%capture\n",
        "import tensorflow as tf\n",
        "with tf.device(tf.DeviceSpec(device_type=\"GPU\", device_index='0')):\n",
        "        classifier.fit_generator(train_set,\n",
        "                                steps_per_epoch=50, \n",
        "                                epochs = 20,\n",
        "                                validation_data = train_set,\n",
        "                                validation_steps = 20, \n",
        "                                #callbacks=[tensorboard]\n",
        "                                );"
      ],
      "metadata": {
        "colab": {
          "base_uri": "https://localhost:8080/"
        },
        "id": "E_BlOgDJkolB",
        "outputId": "698c2a32-fcee-4897-8e5d-8fe1054582d9"
      },
      "execution_count": null,
      "outputs": [
        {
          "output_type": "stream",
          "name": "stdout",
          "text": [
            "Epoch 1/20\n"
          ]
        },
        {
          "output_type": "stream",
          "name": "stderr",
          "text": [
            "<ipython-input-16-bcd780a421f8>:4: UserWarning: `Model.fit_generator` is deprecated and will be removed in a future version. Please use `Model.fit`, which supports generators.\n",
            "  classifier.fit_generator(train_set,\n"
          ]
        },
        {
          "output_type": "stream",
          "name": "stdout",
          "text": [
            "50/50 [==============================] - 964s 19s/step - loss: 0.6934 - accuracy: 0.5431 - val_loss: 0.6914 - val_accuracy: 0.5203\n",
            "Epoch 2/20\n",
            "50/50 [==============================] - 887s 18s/step - loss: 0.6863 - accuracy: 0.5663 - val_loss: 0.6821 - val_accuracy: 0.5906\n",
            "Epoch 3/20\n",
            "50/50 [==============================] - 797s 16s/step - loss: 0.6681 - accuracy: 0.6175 - val_loss: 0.6440 - val_accuracy: 0.6438\n",
            "Epoch 4/20\n",
            "50/50 [==============================] - 724s 15s/step - loss: 0.6219 - accuracy: 0.6538 - val_loss: 0.6491 - val_accuracy: 0.6438\n",
            "Epoch 5/20\n",
            "50/50 [==============================] - 657s 13s/step - loss: 0.6262 - accuracy: 0.6481 - val_loss: 0.6048 - val_accuracy: 0.6766\n",
            "Epoch 6/20\n",
            "50/50 [==============================] - 583s 12s/step - loss: 0.5954 - accuracy: 0.6837 - val_loss: 0.5981 - val_accuracy: 0.6641\n",
            "Epoch 7/20\n",
            "50/50 [==============================] - 557s 11s/step - loss: 0.5858 - accuracy: 0.6819 - val_loss: 0.5889 - val_accuracy: 0.7266\n",
            "Epoch 8/20\n",
            "50/50 [==============================] - 496s 10s/step - loss: 0.5748 - accuracy: 0.6975 - val_loss: 0.5202 - val_accuracy: 0.7531\n",
            "Epoch 9/20\n",
            "50/50 [==============================] - 477s 10s/step - loss: 0.5803 - accuracy: 0.6837 - val_loss: 0.5536 - val_accuracy: 0.7328\n",
            "Epoch 10/20\n",
            "50/50 [==============================] - 409s 8s/step - loss: 0.5420 - accuracy: 0.7219 - val_loss: 0.5336 - val_accuracy: 0.7312\n",
            "Epoch 11/20\n",
            "50/50 [==============================] - 403s 8s/step - loss: 0.5529 - accuracy: 0.7170 - val_loss: 0.5642 - val_accuracy: 0.7188\n",
            "Epoch 12/20\n",
            "50/50 [==============================] - 340s 7s/step - loss: 0.5351 - accuracy: 0.7425 - val_loss: 0.5584 - val_accuracy: 0.7078\n",
            "Epoch 13/20\n",
            "50/50 [==============================] - 326s 7s/step - loss: 0.5489 - accuracy: 0.7013 - val_loss: 0.5302 - val_accuracy: 0.7516\n",
            "Epoch 14/20\n",
            "50/50 [==============================] - 278s 6s/step - loss: 0.5306 - accuracy: 0.7387 - val_loss: 0.4802 - val_accuracy: 0.7688\n",
            "Epoch 15/20\n",
            "50/50 [==============================] - 274s 6s/step - loss: 0.5295 - accuracy: 0.7275 - val_loss: 0.5032 - val_accuracy: 0.7625\n",
            "Epoch 16/20\n",
            "50/50 [==============================] - 239s 5s/step - loss: 0.5283 - accuracy: 0.7375 - val_loss: 0.4936 - val_accuracy: 0.7563\n",
            "Epoch 17/20\n",
            "50/50 [==============================] - 233s 5s/step - loss: 0.5032 - accuracy: 0.7456 - val_loss: 0.5220 - val_accuracy: 0.7422\n",
            "Epoch 18/20\n",
            "50/50 [==============================] - 192s 4s/step - loss: 0.5024 - accuracy: 0.7525 - val_loss: 0.4626 - val_accuracy: 0.7734\n",
            "Epoch 19/20\n",
            "50/50 [==============================] - 180s 4s/step - loss: 0.4990 - accuracy: 0.7519 - val_loss: 0.4956 - val_accuracy: 0.7547\n",
            "Epoch 20/20\n",
            "50/50 [==============================] - 166s 3s/step - loss: 0.4813 - accuracy: 0.7750 - val_loss: 0.4812 - val_accuracy: 0.7688\n"
          ]
        }
      ]
    },
    {
      "cell_type": "code",
      "source": [
        "classifier.save('/content/drive/MyDrive/Internships/Cortex N Grey/dogcat_model_bak.h5')"
      ],
      "metadata": {
        "id": "Kx5ufXeOkyRG"
      },
      "execution_count": null,
      "outputs": []
    },
    {
      "cell_type": "code",
      "source": [
        "from tensorflow.keras.models import load_model\n",
        "classifier = load_model('/content/drive/MyDrive/Internships/Cortex N Grey/dogcat_model_bak.h5')"
      ],
      "metadata": {
        "id": "IU1ytLdwk7y4"
      },
      "execution_count": null,
      "outputs": []
    },
    {
      "cell_type": "code",
      "source": [
        "#Prediction of image\n",
        "%matplotlib inline\n",
        "import tensorflow\n",
        "from tensorflow.keras.preprocessing import image\n",
        "import matplotlib.pyplot as plt\n",
        "import numpy as np\n",
        "img1 = image.load_img('/content/drive/MyDrive/Internships/Cortex N Grey/Cat&Dog/test1/10035.jpg', target_size=(64, 64))\n",
        "img = image.img_to_array(img1)\n",
        "img = img/255\n",
        "# create a batch of size 1 [N,H,W,C]\n",
        "img = np.expand_dims(img, axis=0)\n",
        "prediction = classifier.predict(img, batch_size=None,steps=1) #gives all class prob.\n",
        "if(prediction[:,:]>0.5):\n",
        "    value ='Dog :%1.2f'%(prediction[0,0])\n",
        "    plt.text(20, 62,value,color='red',fontsize=18,bbox=dict(facecolor='white',alpha=0.8))\n",
        "else:\n",
        "    value ='Cat :%1.2f'%(1.0-prediction[0,0])\n",
        "    plt.text(20, 62,value,color='red',fontsize=18,bbox=dict(facecolor='white',alpha=0.8))\n",
        "\n",
        "plt.imshow(img1)\n",
        "plt.show()"
      ],
      "metadata": {
        "colab": {
          "base_uri": "https://localhost:8080/",
          "height": 286
        },
        "id": "HQU2q0ealCCa",
        "outputId": "9a45ba3a-73ff-4bf4-e2d3-1b7e2e8e49e0"
      },
      "execution_count": null,
      "outputs": [
        {
          "output_type": "stream",
          "name": "stdout",
          "text": [
            "1/1 [==============================] - 0s 137ms/step\n"
          ]
        },
        {
          "output_type": "display_data",
          "data": {
            "text/plain": [
              "<Figure size 432x288 with 1 Axes>"
            ],
            "image/png": "[encoded data removed]"
          },
          "metadata": {
            "needs_background": "light"
          }
        }
      ]
    }
  ]
}